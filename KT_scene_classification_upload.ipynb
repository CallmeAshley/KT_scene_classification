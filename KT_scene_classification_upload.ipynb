{
 "cells": [
  {
   "cell_type": "code",
   "execution_count": null,
   "metadata": {
    "vscode": {
     "languageId": "plaintext"
    }
   },
   "outputs": [],
   "source": [
    "import tensorflow as tf\n",
    "import matplotlib as plt\n",
    "import matplotlib.pyplot as plt\n",
    "import numpy as np\n",
    "import keras\n",
    "import cv2\n",
    "from sklearn import datasets\n",
    "from sklearn.model_selection import train_test_split\n",
    "import pandas as pd\n",
    "import os\n",
    "import PIL\n",
    "import PIL.Image\n",
    "from glob import glob\n",
    "import pathlib\n",
    "import matplotlib.pyplot as plt\n",
    "from tensorflow.keras.utils import to_categorical\n",
    "from sklearn.preprocessing import OneHotEncoder, LabelEncoder\n",
    "from tensorflow import keras\n",
    "from tensorflow.keras.models import *\n",
    "from tensorflow.keras.layers import *\n",
    "from matplotlib import *\n",
    "from matplotlib.pyplot import *\n",
    "from keras.regularizers import l2\n",
    "from numpy import *\n",
    "import random\n",
    "from tensorflow.keras.preprocessing.image import *\n",
    "import scipy\n",
    "from scipy import ndimage\n",
    "from skimage.measure import label, regionprops"
   ]
  },
  {
   "cell_type": "code",
   "execution_count": null,
   "metadata": {
    "vscode": {
     "languageId": "plaintext"
    }
   },
   "outputs": [],
   "source": [
    "np.set_printoptions(threshold=np.inf, linewidth=np.inf) #inf = infinity "
   ]
  },
  {
   "cell_type": "markdown",
   "metadata": {},
   "source": [
    "# 함수 정리"
   ]
  },
  {
   "cell_type": "markdown",
   "metadata": {},
   "source": [
    "### 일반 코드"
   ]
  },
  {
   "cell_type": "markdown",
   "metadata": {},
   "source": [
    "- img_load_preproc(train_const_list) : 이미지 불러와서 array로 만들기\n",
    "- for_label_index(test_label_array, i) : 인덱스 뽑아내기\n",
    "- plot_data(train_data, num) : 데이터 하나씩 plot\n",
    "- plot_wrong_classification(predicted_label, test_data, test_label_array) : 잘 분류된 것 16개\n",
    "- plot_right_classification(predicted_label, test_data, test_label_array) : 잘못 분류된 것"
   ]
  },
  {
   "cell_type": "markdown",
   "metadata": {},
   "source": [
    "### Grad CAM 관련 코드"
   ]
  },
  {
   "cell_type": "markdown",
   "metadata": {},
   "source": [
    "- generate_gradCAM(model, last_conv_layer, last_dense_layer, train_data, num) : gradcam, img 리턴\n",
    "- plot_gradCAM(model, last_conv_layer, last_dense_layer, train_data, num) : gradCAM 영상 보여줌\n",
    "\n",
    "\n",
    "- wrong_classified_gradCAM(predicted_label, test_data, test_label_array) : 잘못 분류한 것들 대해서 원본 이미지와 gradCAM 보여줌\n",
    "\n",
    "\n",
    "- generate_bbox(img, cam, threshold) : 빨간 range 생성하기용\n",
    "- gradCAM_bbox(model, last_conv_layer, last_dense_layer, train_data, num) : gradCAM box 보여줌\n",
    "\n",
    "\n",
    "- plot_gradCAM_set(model, last_conv_layer, last_dense_layer, train_data, num) : 원본&gradCAM&box 세개 보두 보여줌\n",
    "- wrong_classified_gradCAM_set(predicted_label, test_data, test_label_array) : 잘못 분류된 영상 대해 모두 plot"
   ]
  },
  {
   "cell_type": "markdown",
   "metadata": {},
   "source": [
    "# 함수들"
   ]
  },
  {
   "cell_type": "code",
   "execution_count": null,
   "metadata": {
    "vscode": {
     "languageId": "plaintext"
    }
   },
   "outputs": [],
   "source": [
    "def img_load_preproc(train_const_list):\n",
    "    train_const_data = []\n",
    "    for file in train_const_list :\n",
    "        img = cv2.imread(file, cv2.IMREAD_COLOR)\n",
    "        img = cv2.resize(img, (224,224))\n",
    "        img = cv2.normalize(img, None, 0,255,cv2.NORM_MINMAX)\n",
    "        train_const_data.append(img)\n",
    "    return train_const_data"
   ]
  },
  {
   "cell_type": "code",
   "execution_count": null,
   "metadata": {
    "vscode": {
     "languageId": "plaintext"
    }
   },
   "outputs": [],
   "source": [
    "#라벨값 뽑아내기\n",
    "def for_label_index(test_label_array, i) :\n",
    "    index = np.where(test_label_array[i]==np.max(test_label_array[i]))\n",
    "    index = index[0]\n",
    "    return index"
   ]
  },
  {
   "cell_type": "code",
   "execution_count": null,
   "metadata": {
    "vscode": {
     "languageId": "plaintext"
    }
   },
   "outputs": [],
   "source": [
    "# 단순 데이터 하나씩 plot\n",
    "def plot_data(train_data, num) :\n",
    "    plt.imshow(cv2.cvtColor(train_data[num], cv2.COLOR_BGR2RGB))\n",
    "    #train_label[num] = for_label_index(train_label, num)\n",
    "    plt.title(for_label_index(train_label, num))\n",
    "    plt.axis('off')\n",
    "    plt.grid(b=None)"
   ]
  },
  {
   "cell_type": "code",
   "execution_count": null,
   "metadata": {
    "vscode": {
     "languageId": "plaintext"
    }
   },
   "outputs": [],
   "source": [
    "#학습 진행할 때 정리해서 결과 띄우기\n",
    "class LossAndErrorPrintingCallback(keras.callbacks.Callback):\n",
    "    def on_epoch_end(self, epoch, logs=None):\n",
    "        print(\n",
    "            \"Epoch {}\\n \"\n",
    "            \" The average loss (train/val) : {:7.7f} / {:7.7f}\\n \"\n",
    "            \" The average accuracy (train/val) : {:7.7f} / {:7.7f}\\n \"\n",
    "            \" The mean crossentropy (train/val) : {:7.7f} / {:7.7f}\\n \"\n",
    "            \"================================================================\".format(\n",
    "                epoch, \n",
    "                logs[\"loss\"], logs[\"val_loss\"],\n",
    "                logs[\"accuracy\"], logs[\"val_accuracy\"],\n",
    "                logs[\"binary_crossentropy\"], logs[\"val_binary_crossentropy\"]\n",
    "            )\n",
    "        )"
   ]
  },
  {
   "cell_type": "code",
   "execution_count": null,
   "metadata": {
    "vscode": {
     "languageId": "plaintext"
    }
   },
   "outputs": [],
   "source": [
    "#학습 진행 후 결과 보기\n",
    "def plot_acc_loss(history1_2):\n",
    "    # check accuracy and loss\n",
    "    plt.figure(figsize=[10,20])\n",
    "    plt.subplot(3, 1, 1)\n",
    "    plt.plot(history1_2.history['accuracy'], label='Training Accuracy')\n",
    "    plt.plot(history1_2.history['val_accuracy'], label='Validation Accuracy')\n",
    "    plt.legend(loc='lower right')\n",
    "    plt.title('Training and Validation Accuracy')\n",
    "    plt.subplot(3, 1, 2)\n",
    "    plt.plot(history1_2.history['loss'], label='Training Loss')\n",
    "    plt.plot(history1_2.history['val_loss'], label='Validation Loss')\n",
    "    plt.legend(loc='upper right')\n",
    "    plt.title('Training and Validation Loss')\n",
    "    plt.subplot(3, 1, 3)\n",
    "    plt.plot(history1_2.history['binary_crossentropy'], label='Training CrossEntropy')\n",
    "    plt.plot(history1_2.history['val_binary_crossentropy'], label='Validation CrossEntropy')\n",
    "    plt.legend(loc='upper right')\n",
    "    plt.title('Training and Validation CrossEntropy')\n",
    "    plt.show()"
   ]
  },
  {
   "cell_type": "code",
   "execution_count": null,
   "metadata": {
    "vscode": {
     "languageId": "plaintext"
    }
   },
   "outputs": [],
   "source": [
    "# 분류 잘된 것들 뽑아내기(그냥 plot)\n",
    "def plot_right_classification(predicted_label, test_data, test_label_array) :\n",
    "    right_result = []\n",
    "    for n in range(0, len(test_label_array)):\n",
    "        if for_label_index(test_label_array, n) == for_label_index(predicted_label, n):\n",
    "            right_result.append(n)\n",
    "    sample_result = np.random.choice(len(right_result),16, replace=False)\n",
    "    count=0\n",
    "    nrows = ncols = 4\n",
    "    plt.figure(figsize=(15,15))\n",
    "    for n in sample_result:\n",
    "        count += 1\n",
    "        plt.subplot(nrows, ncols, count)\n",
    "        plt.imshow(cv2.cvtColor(test_data[n], cv2.COLOR_BGR2RGB))\n",
    "        tmp = \"Label:\" + str(for_label_index(test_label_array, n))+ \\\n",
    "        \", Prediction:\" + str(for_label_index(predicted_label, n)) + \", \" + str(np.max(predicted_label[n]))\n",
    "        plt.title(tmp)\n",
    "        plt.axis('off')\n",
    "        plt.grid(b=None)\n",
    "    plt.suptitle(\"Well Classified\")\n",
    "    plt.tight_layout()\n",
    "    plt.show()\n",
    "    print(\"well classified cases: \")\n",
    "    print(len(right_result))"
   ]
  },
  {
   "cell_type": "code",
   "execution_count": null,
   "metadata": {
    "vscode": {
     "languageId": "plaintext"
    }
   },
   "outputs": [],
   "source": [
    "# 분류 제대로 안된 것들 뽑아내기(그냥 plot)\n",
    "def plot_wrong_classification(predicted_label, test_data, test_label_array) :\n",
    "    wrong_result = []\n",
    "    for n in range(0, len(test_label_array)):\n",
    "        if for_label_index(test_label_array, n) != for_label_index(predicted_label, n):\n",
    "            wrong_result.append(n)\n",
    "    \n",
    "    sample_result = np.random.choice(wrong_result,\n",
    "                                     np.min([16, len(wrong_result)]),\n",
    "                                     replace=False)\n",
    "    count=0\n",
    "    nrows = np.min([16, len(wrong_result)])\n",
    "    ncols = 1\n",
    "    plt.figure(figsize=(5,5*nrows))\n",
    "    for n in sample_result:\n",
    "        count += 1\n",
    "        plt.subplot(nrows, ncols, count)\n",
    "        plt.imshow(cv2.cvtColor(test_data[n], cv2.COLOR_BGR2RGB))\n",
    "        tmp = \"Label:\" + str(for_label_index(test_label_array, n))+ \\\n",
    "        \", Prediction:\" + str(for_label_index(predicted_label, n)) +\", \"+str(np.max(predicted_label[n]))\n",
    "        plt.title(tmp)\n",
    "        plt.axis('off')\n",
    "        plt.grid(b=None)\n",
    "    plt.suptitle(\"Wrong Classified\")\n",
    "    plt.tight_layout()\n",
    "    plt.show()\n",
    "    print(\"wrong classified cases: \")\n",
    "    print(len(wrong_result))"
   ]
  },
  {
   "cell_type": "code",
   "execution_count": null,
   "metadata": {
    "vscode": {
     "languageId": "plaintext"
    }
   },
   "outputs": [],
   "source": [
    "#gradCAM array로 뽑아내기\n",
    "def generate_gradCAM(model, last_conv_layer, last_dense_layer, train_data, num) :\n",
    "    \n",
    "    \"\"\"\n",
    "    Grad CAM\n",
    "\n",
    "    1. 마지막 conv layer output (feature map) 을 구한다 = last_conv_output (A_k)\n",
    "    2. 마지막 dense layer output (logit) 을 구한다 (softmax 통과 전) = last_dense_output(y_c)\n",
    "    3. logit을 feature map으로 편미분하여 weight를 구한다 = a_k (k는 마지막 conv층 filter)\n",
    "    4. a_k에 각 필터별 feature map 곱하여 전체 필터 대한 결과값 더해준다.\n",
    "    5. relu 통과시키면 끝\n",
    "    \"\"\"\n",
    "    grad_model = keras.models.Model(inputs=model.inputs, \n",
    "                                outputs=[model.get_layer(last_conv_layer).output, \n",
    "                                         model.get_layer(last_dense_layer).output])\n",
    "    with tf.GradientTape(persistent=False) as tape :\n",
    "        A_k, y_c = grad_model((tf.expand_dims(train_data[num], axis=0)))\n",
    "        loss = tf.squeeze(y_c[:, np.argmax(y_c[0])])\n",
    "\n",
    "    grads = tape.gradient(loss, A_k)\n",
    "\n",
    "    #가중치 계산. 피쳐맵의 각 피쳐가 로짓값에 얼마나 큰 영향 미치는지\n",
    "    weights = np.mean(grads, axis = (0,1,2))\n",
    "    \n",
    "    # 추출한 conv_output에 weight를 곱하고 합하여 grad_cam을 얻는다.\n",
    "    grad_cam = np.zeros(shape=A_k.shape[0:2])\n",
    "    for k, w in enumerate(weights):\n",
    "        grad_cam = grad_cam + w * A_k[0, :, :, k]    \n",
    "    grad_cam = cv2.resize(np.array(grad_cam), (224, 224))\n",
    "\n",
    "    ## ReLU를 씌워 음수를 0으로 만든다.\n",
    "    grad_cam = np.maximum(grad_cam, 0)\n",
    "    grad_cam = grad_cam / grad_cam.max()\n",
    "    \n",
    "    img = train_data[num]\n",
    "    return grad_cam, img"
   ]
  },
  {
   "cell_type": "code",
   "execution_count": null,
   "metadata": {
    "vscode": {
     "languageId": "plaintext"
    }
   },
   "outputs": [],
   "source": [
    "#gradCAM plot한 것까지 뽑아내기\n",
    "def plot_gradCAM(model, last_conv_layer, last_dense_layer, train_data, num) :\n",
    "    grad_model = keras.models.Model(inputs=model.inputs, \n",
    "                                outputs=[model.get_layer(last_conv_layer).output, \n",
    "                                         model.get_layer(last_dense_layer).output])\n",
    "    with tf.GradientTape(persistent=False) as tape :\n",
    "        A_k, y_c = grad_model((tf.expand_dims(train_data[num], axis=0)))\n",
    "        loss = tf.squeeze(y_c[:, np.argmax(y_c[0])])\n",
    "\n",
    "    grads = tape.gradient(loss, A_k)\n",
    "\n",
    "    #가중치 계산. 피쳐맵의 각 피쳐가 로짓값에 얼마나 큰 영향 미치는지\n",
    "    weights = np.mean(grads, axis = (0,1,2))\n",
    "    \n",
    "    # 추출한 conv_output에 weight를 곱하고 합하여 grad_cam을 얻는다.\n",
    "    grad_cam = np.zeros(shape=A_k.shape[0:2])\n",
    "    for k, w in enumerate(weights):\n",
    "        grad_cam = grad_cam + w * A_k[0, :, :, k]    \n",
    "    grad_cam = cv2.resize(np.array(grad_cam), (224, 224))\n",
    "\n",
    "    ## ReLU를 씌워 음수를 0으로 만든다.\n",
    "    grad_cam = np.maximum(grad_cam, 0)\n",
    "    grad_cam = grad_cam / grad_cam.max()\n",
    "    \n",
    "    plt.figure(figsize=(10,10))\n",
    "    plot_data(train_data, num)\n",
    "    plt.imshow(grad_cam, cmap='jet', alpha=0.45)"
   ]
  },
  {
   "cell_type": "code",
   "execution_count": null,
   "metadata": {
    "vscode": {
     "languageId": "plaintext"
    }
   },
   "outputs": [],
   "source": [
    "# 틀린 것만 골라내서 gradCAM 보기\n",
    "def wrong_classified_gradCAM(predicted_label, test_data, test_label_array) :\n",
    "    wrong_result = []\n",
    "    for n in range(0, len(test_label_array)):\n",
    "        if for_label_index(test_label_array, n) != for_label_index(predicted_label, n):\n",
    "            wrong_result.append(n)\n",
    "    \n",
    "    sample_result = np.random.choice(wrong_result,\n",
    "                                     np.min([16, len(wrong_result)]),\n",
    "                                     replace=False)\n",
    "    count=0\n",
    "    nrows = np.min([16, len(wrong_result)])\n",
    "    ncols = 2\n",
    "    plt.figure(figsize=(10,20))\n",
    "    for n in sample_result:\n",
    "        count += 1\n",
    "        plt.subplot(nrows, ncols, count)\n",
    "        plt.imshow(cv2.cvtColor(test_data[n], cv2.COLOR_BGR2RGB))\n",
    "        plt.imshow(generate_gradCAM(model1_1, 'conv2d_2', 'dense_1',test_data, n), cmap='jet', alpha=0.4)\n",
    "        tmp = \"Label:\" + str(for_label_index(test_label_array, n))+ \", Prediction:\" + str(for_label_index(predicted_label, n))\n",
    "        plt.title(tmp)\n",
    "        plt.axis('off')\n",
    "        plt.grid(b=None)\n",
    "        count += 1\n",
    "        plt.subplot(nrows, ncols, count)\n",
    "        plt.imshow(cv2.cvtColor(test_data[n], cv2.COLOR_BGR2RGB))\n",
    "        tmp = \"Label:\" + str(for_label_index(test_label_array, n))+ \", Prediction:\" + str(for_label_index(predicted_label, n))\n",
    "        plt.title(tmp)\n",
    "        plt.axis('off')\n",
    "        plt.grid(b=None)\n",
    "    plt.suptitle(\"Wrong Classified\")\n",
    "    plt.tight_layout()\n",
    "    plt.show()"
   ]
  },
  {
   "cell_type": "code",
   "execution_count": null,
   "metadata": {
    "vscode": {
     "languageId": "plaintext"
    }
   },
   "outputs": [],
   "source": [
    "# box 뽑아내기용 코드\n",
    "def generate_bbox(img, cam, threshold):\n",
    "    labeled, nr_objects = ndimage.label(cam > threshold)\n",
    "    props = regionprops(labeled)\n",
    "    return props"
   ]
  },
  {
   "cell_type": "code",
   "execution_count": null,
   "metadata": {
    "vscode": {
     "languageId": "plaintext"
    }
   },
   "outputs": [],
   "source": [
    "#box plot 만\n",
    "def gradCAM_bbox(model, last_conv_layer, last_dense_layer, train_data, num) :\n",
    "    grad_cam, img = generate_gradCAM(model, last_conv_layer, last_dense_layer,train_data, num)\n",
    "    props = generate_bbox(img, grad_cam , 0.1)\n",
    "    \n",
    "    fig,ax = plt.subplots(figsize=(5,5))\n",
    "    ax.imshow(cv2.cvtColor(img, cv2.COLOR_BGR2RGB))\n",
    "    for b in props:\n",
    "        bbox = b.bbox\n",
    "        xs = bbox[1]\n",
    "        ys = bbox[0]\n",
    "        w = bbox[3] - bbox[1]\n",
    "        h = bbox[2] - bbox[0]\n",
    "\n",
    "        rect = patches.Rectangle((xs, ys), w, h, linewidth=2, edgecolor='r', facecolor='none')\n",
    "        ax.add_patch(rect)\n",
    "\n",
    "    plt.axis('off')\n",
    "    plt.grid(b=None)\n",
    "    plt.show()"
   ]
  },
  {
   "cell_type": "code",
   "execution_count": null,
   "metadata": {
    "vscode": {
     "languageId": "plaintext"
    }
   },
   "outputs": [],
   "source": [
    "#원본이미지, 그냥 gradCAM, box 까지 뽑아내기\n",
    "def plot_gradCAM_set(model, last_conv_layer, last_dense_layer, train_data, num) :\n",
    "    grad_cam, img = generate_gradCAM(model, last_conv_layer, last_dense_layer,train_data, num)\n",
    "    props = generate_bbox(img, grad_cam , 0.2)\n",
    "    \n",
    "    fig,axes = plt.subplots(1,3,figsize=(15,5))\n",
    "    \n",
    "    axes[0].imshow(cv2.cvtColor(img, cv2.COLOR_BGR2RGB))\n",
    "    axes[1].imshow(cv2.cvtColor(img, cv2.COLOR_BGR2RGB))\n",
    "    axes[1].imshow(grad_cam, cmap='jet', alpha=0.4)\n",
    "   \n",
    "    axes[2].imshow(cv2.cvtColor(img, cv2.COLOR_BGR2RGB))\n",
    "    for b in props:\n",
    "        bbox = b.bbox\n",
    "        xs = bbox[1]\n",
    "        ys = bbox[0]\n",
    "        w = bbox[3] - bbox[1]\n",
    "        h = bbox[2] - bbox[0]\n",
    "\n",
    "        rect = patches.Rectangle((xs, ys), w, h, linewidth=2, edgecolor='r', facecolor='none')\n",
    "        axes[2].add_patch(rect)\n",
    "\n",
    "    axes[0].axis('off')\n",
    "    axes[1].axis('off')\n",
    "    axes[2].axis('off')    \n",
    "    \n",
    "    plt.tight_layout()\n",
    "    plt.show()"
   ]
  },
  {
   "cell_type": "code",
   "execution_count": null,
   "metadata": {
    "vscode": {
     "languageId": "plaintext"
    }
   },
   "outputs": [],
   "source": [
    "# 틀린 것만 골라내서 gradCAM 보기\n",
    "def wrong_classified_gradCAM_set(predicted_label, test_data, test_label_array) :\n",
    "    wrong_result = []\n",
    "    for n in range(0, len(test_label_array)):\n",
    "        if for_label_index(test_label_array, n) != for_label_index(predicted_label, n):\n",
    "            wrong_result.append(n)\n",
    "    \n",
    "    sample_result = np.random.choice(wrong_result,\n",
    "                                     np.min([10, len(wrong_result)]),\n",
    "                                     replace=False)\n",
    "\n",
    "    for n in sample_result:\n",
    "        plot_gradCAM_set(model1_1, 'conv2d_2', 'dense_1',test_data, n)\n",
    "    plt.suptitle(\"Wrong Classified\")\n",
    "    plt.tight_layout()\n",
    "    plt.show()"
   ]
  },
  {
   "cell_type": "markdown",
   "metadata": {},
   "source": [
    "### 라벨 데이터 만들기"
   ]
  },
  {
   "cell_type": "code",
   "execution_count": null,
   "metadata": {
    "vscode": {
     "languageId": "plaintext"
    }
   },
   "outputs": [],
   "source": [
    "test_num = 200\n",
    "# label 만들기 : const 2850개, nonconst 3188개\n",
    "\n",
    "const_label = [1., 0.]\n",
    "nonconst_label = [0., 1.]\n",
    "\n",
    "train_label=[]\n",
    "test_label=[]\n",
    "\n",
    "for i in range(0,2850-test_num):\n",
    "    train_label.append(const_label) #2650개\n",
    "for i in range(0,3188-test_num):\n",
    "    train_label.append(nonconst_label) #2988개\n",
    "    \n",
    "for i in range(0, test_num):\n",
    "    test_label.append(const_label)\n",
    "for i in range(0,test_num):\n",
    "    test_label.append(nonconst_label)\n",
    "    \n",
    "print(np.shape(train_label), np.shape(test_label))"
   ]
  },
  {
   "cell_type": "markdown",
   "metadata": {},
   "source": [
    "### list 데이터 만들기 (train, test 따로)"
   ]
  },
  {
   "cell_type": "code",
   "execution_count": null,
   "metadata": {
    "vscode": {
     "languageId": "plaintext"
    }
   },
   "outputs": [],
   "source": [
    "#const list 중 test data 고르기\n",
    "data_const_list = glob('D:\\\\DSPL\\\\KT\\\\dataset\\\\Construction\\\\*.jpg') #2850개\n",
    "train_const_list = []\n",
    "test_const_list = []\n",
    "np.random.seed(42)\n",
    "for i in range(0,200) :\n",
    "    choice = np.random.choice(data_const_list)\n",
    "    test_const_list.append(choice)\n",
    "    data_const_list.remove(choice)\n",
    "\n",
    "train_const_list = data_const_list\n",
    "print(len(train_const_list), len(test_const_list))"
   ]
  },
  {
   "cell_type": "code",
   "execution_count": null,
   "metadata": {
    "vscode": {
     "languageId": "plaintext"
    }
   },
   "outputs": [],
   "source": [
    "#nonconst list 중 test data 고르기\n",
    "data_nonconst_list = glob('D:\\\\DSPL\\\\KT\\\\dataset\\\\Road Vehicle\\\\*.png') #3188개\n",
    "train_nonconst_list = []\n",
    "test_nonconst_list = []\n",
    "np.random.seed(54)\n",
    "for i in range(0,200) :\n",
    "    choice = np.random.choice(data_nonconst_list)\n",
    "    test_nonconst_list.append(choice)\n",
    "    data_nonconst_list.remove(choice)\n",
    "\n",
    "train_nonconst_list = data_nonconst_list\n",
    "print(len(train_nonconst_list), len(test_nonconst_list))"
   ]
  },
  {
   "cell_type": "markdown",
   "metadata": {},
   "source": [
    "### data generate 하기"
   ]
  },
  {
   "cell_type": "code",
   "execution_count": null,
   "metadata": {
    "vscode": {
     "languageId": "plaintext"
    }
   },
   "outputs": [],
   "source": [
    "# 0~255로 normalize\n",
    "train_const_data = img_load_preproc(train_const_list)\n",
    "train_nonconst_data = img_load_preproc(train_nonconst_list)\n",
    "test_const_data = img_load_preproc(test_const_list)\n",
    "test_nonconst_data = img_load_preproc(test_nonconst_list)"
   ]
  },
  {
   "cell_type": "code",
   "execution_count": null,
   "metadata": {
    "vscode": {
     "languageId": "plaintext"
    }
   },
   "outputs": [],
   "source": [
    "print(np.shape(train_const_data), type(train_const_data))"
   ]
  },
  {
   "cell_type": "code",
   "execution_count": null,
   "metadata": {
    "vscode": {
     "languageId": "plaintext"
    }
   },
   "outputs": [],
   "source": [
    "#cv2는 BGR인데 matplotlib은 RGB여서 변환해줘야 함.\n",
    "plt.imshow(cv2.cvtColor(train_const_data[10], cv2.COLOR_BGR2RGB))"
   ]
  },
  {
   "cell_type": "markdown",
   "metadata": {},
   "source": [
    "### train, test 별로 합치기"
   ]
  },
  {
   "cell_type": "code",
   "execution_count": null,
   "metadata": {
    "vscode": {
     "languageId": "plaintext"
    }
   },
   "outputs": [],
   "source": [
    "train_data = np.concatenate((train_const_data, train_nonconst_data), axis=0)\n",
    "test_data = np.concatenate((test_const_data, test_nonconst_data), axis=0)"
   ]
  },
  {
   "cell_type": "markdown",
   "metadata": {},
   "source": [
    "### 데이터 셔플 (data, label)"
   ]
  },
  {
   "cell_type": "code",
   "execution_count": null,
   "metadata": {
    "vscode": {
     "languageId": "plaintext"
    }
   },
   "outputs": [],
   "source": [
    "train_data = np.array(train_data)\n",
    "train_label = np.array(train_label)\n",
    "\n",
    "idx = np.arange(5638)\n",
    "np.random.shuffle(idx)\n",
    "\n",
    "for i in range (0,5638) :\n",
    "    train_data[i] = train_data[idx[i]]\n",
    "    train_label[i] = train_label[idx[i]]\n",
    "\n",
    "plot_data(train_data, 130)"
   ]
  },
  {
   "cell_type": "code",
   "execution_count": null,
   "metadata": {
    "vscode": {
     "languageId": "plaintext"
    }
   },
   "outputs": [],
   "source": [
    "plot_data(train_data,4)"
   ]
  },
  {
   "cell_type": "markdown",
   "metadata": {},
   "source": [
    "# model train"
   ]
  },
  {
   "cell_type": "code",
   "execution_count": null,
   "metadata": {
    "vscode": {
     "languageId": "plaintext"
    }
   },
   "outputs": [],
   "source": [
    "train_label_array = np.array(train_label)\n",
    "test_label_array=np.array(test_label)"
   ]
  },
  {
   "cell_type": "code",
   "execution_count": null,
   "metadata": {
    "vscode": {
     "languageId": "plaintext"
    }
   },
   "outputs": [],
   "source": [
    "l2=keras.regularizers.l2(1e-3)\n",
    "\n",
    "model1_2 = tf.keras.Sequential()\n",
    "\n",
    "model1_2.add(tf.keras.layers.Conv2D(filters = 16, strides = (1,1), kernel_size=(3,3), padding='same', \n",
    "                                    input_shape=(224,224,3), kernel_regularizer=l2))\n",
    "model1_2.add(tf.keras.layers.BatchNormalization())\n",
    "model1_2.add(tf.keras.layers.ReLU())\n",
    "model1_2.add(tf.keras.layers.MaxPooling2D(pool_size=(2,2), strides=(2,2), padding='same'))\n",
    "\n",
    "model1_2.add(tf.keras.layers.Conv2D(filters = 32, strides=(1,1), kernel_size=(3,3), padding=\"same\",\n",
    "                                   kernel_regularizer=l2))\n",
    "model1_2.add(tf.keras.layers.BatchNormalization())\n",
    "model1_2.add(tf.keras.layers.ReLU())\n",
    "model1_2.add(tf.keras.layers.MaxPooling2D(pool_size=(2,2), strides=(2,2), padding='same'))\n",
    "\n",
    "model1_2.add(tf.keras.layers.Conv2D(filters = 64, strides=(1,1), kernel_size=(3,3), padding=\"same\",\n",
    "                                   kernel_regularizer=l2))\n",
    "model1_2.add(tf.keras.layers.BatchNormalization())\n",
    "model1_2.add(tf.keras.layers.ReLU())\n",
    "  \n",
    "model1_2.add(tf.keras.layers.Flatten())\n",
    "model1_2.add(tf.keras.layers.Dense(128, kernel_regularizer=l2))\n",
    "model1_2.add(tf.keras.layers.BatchNormalization())\n",
    "model1_2.add(tf.keras.layers.ReLU())\n",
    "model1_2.add(tf.keras.layers.Dense(2))\n",
    "model1_2.add(tf.keras.layers.Softmax())\n",
    "\n",
    "\n",
    "lr_schedule = tf.keras.optimizers.schedules.ExponentialDecay(initial_learning_rate=0.01, \n",
    "                                                             decay_steps=100000,\n",
    "                                                             decay_rate=1e-1, staircase=False)\n",
    "\n",
    "\n",
    "model1_2.compile(optimizer=tf.keras.optimizers.Adam(learning_rate=lr_schedule),\n",
    "                 loss=tf.keras.losses.BinaryCrossentropy(), \n",
    "                 metrics= ['accuracy', 'binary_crossentropy'])"
   ]
  },
  {
   "cell_type": "code",
   "execution_count": null,
   "metadata": {
    "vscode": {
     "languageId": "plaintext"
    }
   },
   "outputs": [],
   "source": [
    "model1_2.summary()"
   ]
  },
  {
   "cell_type": "code",
   "execution_count": null,
   "metadata": {
    "vscode": {
     "languageId": "plaintext"
    }
   },
   "outputs": [],
   "source": [
    "history1_2 = model1_2.fit(train_data, train_label_array, validation_split=0.2,\n",
    "                          verbose=0, callbacks=[LossAndErrorPrintingCallback()],\n",
    "                          batch_size=10, epochs=50)"
   ]
  },
  {
   "cell_type": "code",
   "execution_count": null,
   "metadata": {
    "vscode": {
     "languageId": "plaintext"
    }
   },
   "outputs": [],
   "source": [
    "history1_2_1 = model1_2.fit(train_data, train_label_array, validation_split=0.2,\n",
    "                          verbose=0, callbacks=[LossAndErrorPrintingCallback()],\n",
    "                          batch_size=10, epochs=30)"
   ]
  },
  {
   "cell_type": "code",
   "execution_count": null,
   "metadata": {
    "vscode": {
     "languageId": "plaintext"
    }
   },
   "outputs": [],
   "source": [
    "plot_acc_loss(history1_2)"
   ]
  },
  {
   "cell_type": "code",
   "execution_count": null,
   "metadata": {
    "vscode": {
     "languageId": "plaintext"
    }
   },
   "outputs": [],
   "source": [
    "model1_2.save('KT_scene_classification_model1_2_epoch50.h5')"
   ]
  },
  {
   "cell_type": "code",
   "execution_count": null,
   "metadata": {
    "vscode": {
     "languageId": "plaintext"
    }
   },
   "outputs": [],
   "source": [
    "model1_2.evaluate(test_data, test_label_array, batch_size=10)"
   ]
  },
  {
   "cell_type": "code",
   "execution_count": null,
   "metadata": {
    "vscode": {
     "languageId": "plaintext"
    }
   },
   "outputs": [],
   "source": [
    "predicted_label_model1_2 = model1_2.predict(test_data)"
   ]
  },
  {
   "cell_type": "code",
   "execution_count": null,
   "metadata": {
    "vscode": {
     "languageId": "plaintext"
    }
   },
   "outputs": [],
   "source": [
    "plot_wrong_classification(predicted_label_model1_2, test_data, test_label_array)"
   ]
  },
  {
   "cell_type": "code",
   "execution_count": null,
   "metadata": {
    "vscode": {
     "languageId": "plaintext"
    }
   },
   "outputs": [],
   "source": [
    "wrong_classified_gradCAM_set(predicted_label_model1_2, test_data, test_label_array)"
   ]
  },
  {
   "cell_type": "markdown",
   "metadata": {},
   "source": [
    "# 잘못 분류된 것 찾아보기 (model1_1)"
   ]
  },
  {
   "cell_type": "code",
   "execution_count": null,
   "metadata": {
    "vscode": {
     "languageId": "plaintext"
    }
   },
   "outputs": [],
   "source": [
    "model1_1 = tf.keras.models.load_model('KT_scene_classification_model1_1_epoch30.h5')"
   ]
  },
  {
   "cell_type": "code",
   "execution_count": null,
   "metadata": {
    "vscode": {
     "languageId": "plaintext"
    }
   },
   "outputs": [],
   "source": [
    "predicted_label_model1_1 = model1_1.predict(test_data, batch_size=10)"
   ]
  },
  {
   "cell_type": "code",
   "execution_count": null,
   "metadata": {
    "vscode": {
     "languageId": "plaintext"
    }
   },
   "outputs": [],
   "source": [
    "plot_right_classification(predicted_label_model1_1, test_data, test_label_array)"
   ]
  },
  {
   "cell_type": "code",
   "execution_count": null,
   "metadata": {
    "vscode": {
     "languageId": "plaintext"
    }
   },
   "outputs": [],
   "source": [
    "plot_wrong_classification(predicted_label_model1_1, test_data, test_label_array)"
   ]
  },
  {
   "cell_type": "markdown",
   "metadata": {},
   "source": [
    "# Grad CAM"
   ]
  },
  {
   "cell_type": "code",
   "execution_count": null,
   "metadata": {
    "vscode": {
     "languageId": "plaintext"
    }
   },
   "outputs": [],
   "source": [
    "plot_gradCAM(model1_1, 'conv2d_2', 'dense_1',train_data, 0)"
   ]
  },
  {
   "cell_type": "code",
   "execution_count": null,
   "metadata": {
    "vscode": {
     "languageId": "plaintext"
    }
   },
   "outputs": [],
   "source": [
    "plot_gradCAM(model1_1, 'conv2d_2', 'dense_1', train_data, 1)"
   ]
  },
  {
   "cell_type": "code",
   "execution_count": null,
   "metadata": {
    "vscode": {
     "languageId": "plaintext"
    }
   },
   "outputs": [],
   "source": [
    "plot_gradCAM(model1_1, 'conv2d_2', 'dense_1',train_data, 2)"
   ]
  },
  {
   "cell_type": "code",
   "execution_count": null,
   "metadata": {
    "vscode": {
     "languageId": "plaintext"
    }
   },
   "outputs": [],
   "source": [
    "wrong_classified_gradCAM(predicted_label_model1_1, test_data, test_label_array)"
   ]
  },
  {
   "cell_type": "code",
   "execution_count": null,
   "metadata": {
    "vscode": {
     "languageId": "plaintext"
    }
   },
   "outputs": [],
   "source": [
    "count=0\n",
    "nrows=4\n",
    "ncols=2\n",
    "plt.figure(figsize=(10,20))\n",
    "for n in range(0,8) :\n",
    "    count = count+1\n",
    "    plt.subplot(nrows, ncols, count)\n",
    "    plt.imshow(cv2.cvtColor(test_data[n], cv2.COLOR_BGR2RGB))\n",
    "    plt.imshow(generate_gradCAM(model1_1, 'conv2d_2', 'dense_1',test_data, n),cmap='jet', alpha=0.4)\n",
    "    plt.axis('off')\n",
    "    plt.grid(b=None)\n",
    "    tmp = \"Label:\" + str(for_label_index(test_label_array, n))+ \", Prediction:\" + str(for_label_index(predicted_label_model1_1, n))\n",
    "    plt.title(tmp)\n",
    "plt.tight_layout()\n",
    "plt.show()"
   ]
  },
  {
   "cell_type": "code",
   "execution_count": null,
   "metadata": {
    "vscode": {
     "languageId": "plaintext"
    }
   },
   "outputs": [],
   "source": [
    "plot_gradCAM_set(model1_1, 'conv2d_2', 'dense_1',test_data, 207)"
   ]
  },
  {
   "cell_type": "code",
   "execution_count": null,
   "metadata": {
    "vscode": {
     "languageId": "plaintext"
    }
   },
   "outputs": [],
   "source": [
    "wrong_classified_gradCAM_set(predicted_label_model1_1, test_data, test_label_array)"
   ]
  },
  {
   "cell_type": "code",
   "execution_count": null,
   "metadata": {
    "vscode": {
     "languageId": "plaintext"
    }
   },
   "outputs": [],
   "source": [
    "for n in range(0,20) :\n",
    "    plot_gradCAM_set(model1_1, 'conv2d_2', 'dense_1',test_data, n)"
   ]
  },
  {
   "cell_type": "code",
   "execution_count": null,
   "metadata": {
    "vscode": {
     "languageId": "plaintext"
    }
   },
   "outputs": [],
   "source": [
    "for n in range(200,220) :\n",
    "    plot_gradCAM_set(model1_1, 'conv2d_2', 'dense_1',test_data, n)"
   ]
  },
  {
   "cell_type": "code",
   "execution_count": null,
   "metadata": {
    "vscode": {
     "languageId": "plaintext"
    }
   },
   "outputs": [],
   "source": [
    "for n in range(300,320) :\n",
    "    plot_gradCAM_set(model1_1, 'conv2d_2', 'dense_1',test_data, n)"
   ]
  }
 ],
 "metadata": {
  "language_info": {
   "name": "python"
  }
 },
 "nbformat": 4,
 "nbformat_minor": 2
}
